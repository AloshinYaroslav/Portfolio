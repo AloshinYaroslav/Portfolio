{
 "cells": [
  {
   "cell_type": "code",
   "execution_count": 18,
   "metadata": {},
   "outputs": [],
   "source": [
    "import os\n",
    "import matplotlib.pyplot as plt\n",
    "from bs4 import BeautifulSoup\n",
    "import pandas as pd\n",
    "from urllib.request import urlopen, Request\n",
    "from nltk.sentiment.vader import SentimentIntensityAnalyzer"
   ]
  },
  {
   "cell_type": "code",
   "execution_count": 13,
   "metadata": {},
   "outputs": [],
   "source": [
    "web_url = 'https://finviz.com/quote.ashx?t='\n",
    "news_tables = {}\n",
    "tickers = ['AMZN', 'GOOG', 'TSLA']\n",
    "for tick in tickers:\n",
    "    url = web_url+tick\n",
    "    req = Request(url = url, headers = {\"User-Agent\":\"Chrome\"})\n",
    "    response = urlopen(req)\n",
    "    html = BeautifulSoup(response, \"html.parser\")\n",
    "    news_table = html.find(id = 'news-table')\n",
    "    news_tables[tick] = news_table"
   ]
  },
  {
   "cell_type": "code",
   "execution_count": 14,
   "metadata": {},
   "outputs": [
    {
     "name": "stdout",
     "output_type": "stream",
     "text": [
      "How to get Amazon Prime for free  or at a major discount  right now\n",
      "Oct-12-22 07:03AM\n",
      "Amazons Prime Day redux sale ends today  and these are the 20 best deals, from KitchenAid stand mixers to Apple MacBook Air laptops\n",
      "06:31AM\n",
      "Amazon Shoppers Beware: Some 'Bargains' May Actually Cost You More\n",
      "05:32AM\n",
      "Why a 17-Mile Stretch of Arizona Highway Is a Booming Logistics Hub\n",
      "05:30AM\n"
     ]
    }
   ],
   "source": [
    "amazon = news_tables['AMZN']\n",
    "amazon_tr = amazon.findAll('tr')\n",
    "\n",
    "for x, table_row in enumerate(amazon_tr):\n",
    "    a_text = table_row.a.text\n",
    "    td_text = table_row.td.text\n",
    "    print(a_text)\n",
    "    print(td_text)\n",
    "    if x == 3:\n",
    "        break"
   ]
  },
  {
   "cell_type": "code",
   "execution_count": 15,
   "metadata": {},
   "outputs": [],
   "source": [
    "news_list = []\n",
    "for file_name, news_table in news_tables.items():\n",
    "    for i in news_table.findAll('tr'):\n",
    "        text = i.a.get_text()\n",
    "        date_scrape = i.td.text.split()\n",
    "        if len(date_scrape) == 1:\n",
    "            time = date_scrape[0]\n",
    "        else:\n",
    "            date = date_scrape[0]\n",
    "            time = date_scrape[1]\n",
    "\n",
    "        tick = file_name.split('_')[0]\n",
    "        news_list.append([tick, date, time, text])        "
   ]
  },
  {
   "cell_type": "code",
   "execution_count": 19,
   "metadata": {},
   "outputs": [
    {
     "data": {
      "text/html": [
       "<div>\n",
       "<style scoped>\n",
       "    .dataframe tbody tr th:only-of-type {\n",
       "        vertical-align: middle;\n",
       "    }\n",
       "\n",
       "    .dataframe tbody tr th {\n",
       "        vertical-align: top;\n",
       "    }\n",
       "\n",
       "    .dataframe thead th {\n",
       "        text-align: right;\n",
       "    }\n",
       "</style>\n",
       "<table border=\"1\" class=\"dataframe\">\n",
       "  <thead>\n",
       "    <tr style=\"text-align: right;\">\n",
       "      <th></th>\n",
       "      <th>ticker</th>\n",
       "      <th>date</th>\n",
       "      <th>time</th>\n",
       "      <th>headline</th>\n",
       "      <th>neg</th>\n",
       "      <th>neu</th>\n",
       "      <th>pos</th>\n",
       "      <th>compound</th>\n",
       "    </tr>\n",
       "  </thead>\n",
       "  <tbody>\n",
       "    <tr>\n",
       "      <th>0</th>\n",
       "      <td>AMZN</td>\n",
       "      <td>2022-10-12</td>\n",
       "      <td>07:03AM</td>\n",
       "      <td>How to get Amazon Prime for free  or at a majo...</td>\n",
       "      <td>0.000</td>\n",
       "      <td>0.688</td>\n",
       "      <td>0.312</td>\n",
       "      <td>0.6124</td>\n",
       "    </tr>\n",
       "    <tr>\n",
       "      <th>1</th>\n",
       "      <td>AMZN</td>\n",
       "      <td>2022-10-12</td>\n",
       "      <td>06:31AM</td>\n",
       "      <td>Amazons Prime Day redux sale ends today  and t...</td>\n",
       "      <td>0.042</td>\n",
       "      <td>0.798</td>\n",
       "      <td>0.160</td>\n",
       "      <td>0.6249</td>\n",
       "    </tr>\n",
       "    <tr>\n",
       "      <th>2</th>\n",
       "      <td>AMZN</td>\n",
       "      <td>2022-10-12</td>\n",
       "      <td>05:32AM</td>\n",
       "      <td>Amazon Shoppers Beware: Some 'Bargains' May Ac...</td>\n",
       "      <td>0.000</td>\n",
       "      <td>0.841</td>\n",
       "      <td>0.159</td>\n",
       "      <td>0.1779</td>\n",
       "    </tr>\n",
       "    <tr>\n",
       "      <th>3</th>\n",
       "      <td>AMZN</td>\n",
       "      <td>2022-10-12</td>\n",
       "      <td>05:30AM</td>\n",
       "      <td>Why a 17-Mile Stretch of Arizona Highway Is a ...</td>\n",
       "      <td>0.000</td>\n",
       "      <td>1.000</td>\n",
       "      <td>0.000</td>\n",
       "      <td>0.0000</td>\n",
       "    </tr>\n",
       "    <tr>\n",
       "      <th>4</th>\n",
       "      <td>AMZN</td>\n",
       "      <td>2022-10-12</td>\n",
       "      <td>05:19AM</td>\n",
       "      <td>3 Top Cloud Stocks to Buy in October</td>\n",
       "      <td>0.000</td>\n",
       "      <td>0.769</td>\n",
       "      <td>0.231</td>\n",
       "      <td>0.2023</td>\n",
       "    </tr>\n",
       "  </tbody>\n",
       "</table>\n",
       "</div>"
      ],
      "text/plain": [
       "  ticker        date     time  \\\n",
       "0   AMZN  2022-10-12  07:03AM   \n",
       "1   AMZN  2022-10-12  06:31AM   \n",
       "2   AMZN  2022-10-12  05:32AM   \n",
       "3   AMZN  2022-10-12  05:30AM   \n",
       "4   AMZN  2022-10-12  05:19AM   \n",
       "\n",
       "                                            headline    neg    neu    pos  \\\n",
       "0  How to get Amazon Prime for free  or at a majo...  0.000  0.688  0.312   \n",
       "1  Amazons Prime Day redux sale ends today  and t...  0.042  0.798  0.160   \n",
       "2  Amazon Shoppers Beware: Some 'Bargains' May Ac...  0.000  0.841  0.159   \n",
       "3  Why a 17-Mile Stretch of Arizona Highway Is a ...  0.000  1.000  0.000   \n",
       "4               3 Top Cloud Stocks to Buy in October  0.000  0.769  0.231   \n",
       "\n",
       "   compound  \n",
       "0    0.6124  \n",
       "1    0.6249  \n",
       "2    0.1779  \n",
       "3    0.0000  \n",
       "4    0.2023  "
      ]
     },
     "execution_count": 19,
     "metadata": {},
     "output_type": "execute_result"
    }
   ],
   "source": [
    "vader = SentimentIntensityAnalyzer()\n",
    "columns = ['ticker', 'date', 'time', 'headline']\n",
    "news_df = pd.DataFrame(news_list, columns=columns)\n",
    "scores = news_df['headline'].apply(vader.polarity_scores).to_list()\n",
    "scores_df = pd.DataFrame(scores)\n",
    "news_df = news_df.join(scores_df, rsuffix='_right')\n",
    "news_df['date'] = pd.to_datetime(news_df.date).dt.date\n",
    "news_df.head()"
   ]
  },
  {
   "cell_type": "code",
   "execution_count": 20,
   "metadata": {},
   "outputs": [
    {
     "data": {
      "image/png": "[encoded data removed]",
      "text/plain": [
       "<Figure size 1000x600 with 1 Axes>"
      ]
     },
     "metadata": {},
     "output_type": "display_data"
    }
   ],
   "source": [
    "plt.rcParams['figure.figsize'] = [10,6]\n",
    "mean_scores = news_df.groupby(['ticker', 'date']).mean()\n",
    "mean_scores = mean_scores.unstack()\n",
    "mean_scores = mean_scores.xs('compound', axis = \"columns\").transpose()\n",
    "mean_scores.plot(kind = 'bar')\n",
    "plt.grid()\n",
    "plt.show()"
   ]
  }
 ],
 "metadata": {
  "kernelspec": {
   "display_name": "Python 3.9.7 64-bit",
   "language": "python",
   "name": "python3"
  },
  "language_info": {
   "codemirror_mode": {
    "name": "ipython",
    "version": 3
   },
   "file_extension": ".py",
   "mimetype": "text/x-python",
   "name": "python",
   "nbconvert_exporter": "python",
   "pygments_lexer": "ipython3",
   "version": "3.9.7"
  },
  "orig_nbformat": 4,
  "vscode": {
   "interpreter": {
    "hash": "8f8cf99212f81ad0c4765861267244807ee1c18364846cdce387b28994a977ba"
   }
  }
 },
 "nbformat": 4,
 "nbformat_minor": 2
}
